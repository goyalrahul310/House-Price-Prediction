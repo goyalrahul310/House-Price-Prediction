{
 "cells": [
  {
   "cell_type": "code",
   "execution_count": 1,
   "metadata": {},
   "outputs": [
    {
     "name": "stderr",
     "output_type": "stream",
     "text": [
      "Using TensorFlow backend.\n"
     ]
    }
   ],
   "source": [
    "# importing module which are used in the program\n",
    "import numpy as np\n",
    "import pandas as pd\n",
    "from sklearn.preprocessing import LabelEncoder\n",
    "from sklearn import preprocessing\n",
    "from keras import models\n",
    "from keras.layers import Dense\n",
    "from keras.optimizers import Adam\n",
    "from sklearn.linear_model import LinearRegression\n",
    "from sklearn import tree"
   ]
  },
  {
   "cell_type": "code",
   "execution_count": 2,
   "metadata": {},
   "outputs": [],
   "source": [
    "# reading training and testing data\n",
    "data = pd.read_csv(\"Train_Data.csv\")\n",
    "data_test = pd.read_csv(\"Test_Data.csv\")"
   ]
  },
  {
   "cell_type": "code",
   "execution_count": 3,
   "metadata": {},
   "outputs": [],
   "source": [
    "# choosing useful column\n",
    "inputc = [\"OverallQual\",\"GrLivArea\",\"GarageCars\",\"GarageArea\",\"TotalBsmtSF\",\"1stFlrSF\",\"FullBath\",\"TotRmsAbvGrd\",\"YearBuilt\"]\n",
    "outputc = [\"SalePrice\"]\n",
    "X_ = data[inputc]\n",
    "Y_ = data[outputc]\n",
    "X_test = data_test[inputc]"
   ]
  },
  {
   "cell_type": "code",
   "execution_count": 4,
   "metadata": {},
   "outputs": [],
   "source": [
    "#  Normalising the data(data will get in the range of 0 and 1)\n",
    "min_max_scaler = preprocessing.MinMaxScaler()\n",
    "X_new = min_max_scaler.fit_transform(X_)\n",
    "x_test_new = min_max_scaler.fit_transform(X_test)\n",
    "Y_new = min_max_scaler.fit_transform(Y_)"
   ]
  },
  {
   "cell_type": "markdown",
   "metadata": {},
   "source": [
    "# Predicting Price using Neural Network"
   ]
  },
  {
   "cell_type": "code",
   "execution_count": 5,
   "metadata": {},
   "outputs": [
    {
     "name": "stderr",
     "output_type": "stream",
     "text": [
      "WARNING: Logging before flag parsing goes to stderr.\n",
      "W1006 19:47:26.303603 13092 deprecation_wrapper.py:119] From c:\\users\\rahul\\appdata\\local\\programs\\python\\python36\\lib\\site-packages\\keras\\backend\\tensorflow_backend.py:74: The name tf.get_default_graph is deprecated. Please use tf.compat.v1.get_default_graph instead.\n",
      "\n",
      "W1006 19:47:26.367147 13092 deprecation_wrapper.py:119] From c:\\users\\rahul\\appdata\\local\\programs\\python\\python36\\lib\\site-packages\\keras\\backend\\tensorflow_backend.py:517: The name tf.placeholder is deprecated. Please use tf.compat.v1.placeholder instead.\n",
      "\n",
      "W1006 19:47:26.380056 13092 deprecation_wrapper.py:119] From c:\\users\\rahul\\appdata\\local\\programs\\python\\python36\\lib\\site-packages\\keras\\backend\\tensorflow_backend.py:4138: The name tf.random_uniform is deprecated. Please use tf.random.uniform instead.\n",
      "\n"
     ]
    },
    {
     "name": "stdout",
     "output_type": "stream",
     "text": [
      "_________________________________________________________________\n",
      "Layer (type)                 Output Shape              Param #   \n",
      "=================================================================\n",
      "dense_1 (Dense)              (None, 128)               1280      \n",
      "_________________________________________________________________\n",
      "dense_2 (Dense)              (None, 64)                8256      \n",
      "_________________________________________________________________\n",
      "dense_3 (Dense)              (None, 32)                2080      \n",
      "_________________________________________________________________\n",
      "dense_4 (Dense)              (None, 2)                 66        \n",
      "_________________________________________________________________\n",
      "dense_5 (Dense)              (None, 1)                 3         \n",
      "=================================================================\n",
      "Total params: 11,685\n",
      "Trainable params: 11,685\n",
      "Non-trainable params: 0\n",
      "_________________________________________________________________\n"
     ]
    }
   ],
   "source": [
    "# creating model\n",
    "model = models.Sequential()\n",
    "\n",
    "model.add(Dense(128,activation='tanh',input_shape=(9,)))\n",
    "model.add(Dense(64,activation='tanh'))\n",
    "model.add(Dense(32,activation='tanh'))\n",
    "model.add(Dense(2,activation='tanh'))\n",
    "\n",
    "model.add(Dense(1,activation='linear'))\n",
    "model.summary()\n"
   ]
  },
  {
   "cell_type": "code",
   "execution_count": 6,
   "metadata": {},
   "outputs": [
    {
     "name": "stderr",
     "output_type": "stream",
     "text": [
      "W1006 19:47:26.571409 13092 deprecation_wrapper.py:119] From c:\\users\\rahul\\appdata\\local\\programs\\python\\python36\\lib\\site-packages\\keras\\optimizers.py:790: The name tf.train.Optimizer is deprecated. Please use tf.compat.v1.train.Optimizer instead.\n",
      "\n",
      "W1006 19:47:26.810386 13092 deprecation_wrapper.py:119] From c:\\users\\rahul\\appdata\\local\\programs\\python\\python36\\lib\\site-packages\\keras\\backend\\tensorflow_backend.py:986: The name tf.assign_add is deprecated. Please use tf.compat.v1.assign_add instead.\n",
      "\n",
      "W1006 19:47:27.046900 13092 deprecation_wrapper.py:119] From c:\\users\\rahul\\appdata\\local\\programs\\python\\python36\\lib\\site-packages\\keras\\backend\\tensorflow_backend.py:973: The name tf.assign is deprecated. Please use tf.compat.v1.assign instead.\n",
      "\n"
     ]
    },
    {
     "name": "stdout",
     "output_type": "stream",
     "text": [
      "Train on 880 samples, validate on 220 samples\n",
      "Epoch 1/100\n",
      "880/880 [==============================] - 1s 769us/step - loss: 0.0895 - val_loss: 0.0741\n",
      "Epoch 2/100\n",
      "880/880 [==============================] - 0s 104us/step - loss: 0.0590 - val_loss: 0.0430\n",
      "Epoch 3/100\n",
      "880/880 [==============================] - 0s 42us/step - loss: 0.0412 - val_loss: 0.0316\n",
      "Epoch 4/100\n",
      "880/880 [==============================] - 0s 45us/step - loss: 0.0347 - val_loss: 0.0333\n",
      "Epoch 5/100\n",
      "880/880 [==============================] - 0s 42us/step - loss: 0.0356 - val_loss: 0.0374\n",
      "Epoch 6/100\n",
      "880/880 [==============================] - 0s 38us/step - loss: 0.0358 - val_loss: 0.0347\n",
      "Epoch 7/100\n",
      "880/880 [==============================] - 0s 44us/step - loss: 0.0362 - val_loss: 0.0325\n",
      "Epoch 8/100\n",
      "880/880 [==============================] - 0s 51us/step - loss: 0.0367 - val_loss: 0.0325\n",
      "Epoch 9/100\n",
      "880/880 [==============================] - 0s 36us/step - loss: 0.0361 - val_loss: 0.0325\n",
      "Epoch 10/100\n",
      "880/880 [==============================] - 0s 43us/step - loss: 0.0336 - val_loss: 0.0303\n",
      "Epoch 11/100\n",
      "880/880 [==============================] - 0s 39us/step - loss: 0.0338 - val_loss: 0.0381\n",
      "Epoch 12/100\n",
      "880/880 [==============================] - 0s 40us/step - loss: 0.0365 - val_loss: 0.0335\n",
      "Epoch 13/100\n",
      "880/880 [==============================] - 0s 36us/step - loss: 0.0369 - val_loss: 0.0304\n",
      "Epoch 14/100\n",
      "880/880 [==============================] - 0s 39us/step - loss: 0.0343 - val_loss: 0.0395\n",
      "Epoch 15/100\n",
      "880/880 [==============================] - 0s 44us/step - loss: 0.0351 - val_loss: 0.0304\n",
      "Epoch 16/100\n",
      "880/880 [==============================] - ETA: 0s - loss: 0.034 - 0s 44us/step - loss: 0.0333 - val_loss: 0.0316\n",
      "Epoch 17/100\n",
      "880/880 [==============================] - 0s 40us/step - loss: 0.0377 - val_loss: 0.0301\n",
      "Epoch 18/100\n",
      "880/880 [==============================] - 0s 44us/step - loss: 0.0324 - val_loss: 0.0312\n",
      "Epoch 19/100\n",
      "880/880 [==============================] - 0s 35us/step - loss: 0.0320 - val_loss: 0.0319\n",
      "Epoch 20/100\n",
      "880/880 [==============================] - 0s 36us/step - loss: 0.0328 - val_loss: 0.0310\n",
      "Epoch 21/100\n",
      "880/880 [==============================] - 0s 36us/step - loss: 0.0331 - val_loss: 0.0314\n",
      "Epoch 22/100\n",
      "880/880 [==============================] - 0s 45us/step - loss: 0.0348 - val_loss: 0.0317\n",
      "Epoch 23/100\n",
      "880/880 [==============================] - 0s 44us/step - loss: 0.0330 - val_loss: 0.0298\n",
      "Epoch 24/100\n",
      "880/880 [==============================] - 0s 41us/step - loss: 0.0327 - val_loss: 0.0402\n",
      "Epoch 25/100\n",
      "880/880 [==============================] - 0s 44us/step - loss: 0.0367 - val_loss: 0.0310\n",
      "Epoch 26/100\n",
      "880/880 [==============================] - 0s 34us/step - loss: 0.0327 - val_loss: 0.0299\n",
      "Epoch 27/100\n",
      "880/880 [==============================] - 0s 46us/step - loss: 0.0320 - val_loss: 0.0351\n",
      "Epoch 28/100\n",
      "880/880 [==============================] - 0s 38us/step - loss: 0.0316 - val_loss: 0.0298\n",
      "Epoch 29/100\n",
      "880/880 [==============================] - 0s 39us/step - loss: 0.0310 - val_loss: 0.0294\n",
      "Epoch 30/100\n",
      "880/880 [==============================] - 0s 39us/step - loss: 0.0316 - val_loss: 0.0344\n",
      "Epoch 31/100\n",
      "880/880 [==============================] - 0s 39us/step - loss: 0.0339 - val_loss: 0.0326\n",
      "Epoch 32/100\n",
      "880/880 [==============================] - 0s 42us/step - loss: 0.0318 - val_loss: 0.0293\n",
      "Epoch 33/100\n",
      "880/880 [==============================] - 0s 40us/step - loss: 0.0312 - val_loss: 0.0299\n",
      "Epoch 34/100\n",
      "880/880 [==============================] - 0s 36us/step - loss: 0.0322 - val_loss: 0.0374\n",
      "Epoch 35/100\n",
      "880/880 [==============================] - 0s 37us/step - loss: 0.0318 - val_loss: 0.0303\n",
      "Epoch 36/100\n",
      "880/880 [==============================] - 0s 46us/step - loss: 0.0306 - val_loss: 0.0308\n",
      "Epoch 37/100\n",
      "880/880 [==============================] - 0s 42us/step - loss: 0.0313 - val_loss: 0.0312\n",
      "Epoch 38/100\n",
      "880/880 [==============================] - 0s 47us/step - loss: 0.0317 - val_loss: 0.0291\n",
      "Epoch 39/100\n",
      "880/880 [==============================] - 0s 39us/step - loss: 0.0326 - val_loss: 0.0383\n",
      "Epoch 40/100\n",
      "880/880 [==============================] - 0s 36us/step - loss: 0.0325 - val_loss: 0.0295\n",
      "Epoch 41/100\n",
      "880/880 [==============================] - 0s 77us/step - loss: 0.0314 - val_loss: 0.0359\n",
      "Epoch 42/100\n",
      "880/880 [==============================] - 0s 36us/step - loss: 0.0306 - val_loss: 0.0300\n",
      "Epoch 43/100\n",
      "880/880 [==============================] - 0s 38us/step - loss: 0.0309 - val_loss: 0.0310\n",
      "Epoch 44/100\n",
      "880/880 [==============================] - 0s 36us/step - loss: 0.0303 - val_loss: 0.0285\n",
      "Epoch 45/100\n",
      "880/880 [==============================] - 0s 43us/step - loss: 0.0302 - val_loss: 0.0300\n",
      "Epoch 46/100\n",
      "880/880 [==============================] - 0s 33us/step - loss: 0.0298 - val_loss: 0.0324\n",
      "Epoch 47/100\n",
      "880/880 [==============================] - 0s 39us/step - loss: 0.0311 - val_loss: 0.0286\n",
      "Epoch 48/100\n",
      "880/880 [==============================] - 0s 37us/step - loss: 0.0304 - val_loss: 0.0321\n",
      "Epoch 49/100\n",
      "880/880 [==============================] - 0s 39us/step - loss: 0.0314 - val_loss: 0.0292\n",
      "Epoch 50/100\n",
      "880/880 [==============================] - 0s 42us/step - loss: 0.0310 - val_loss: 0.0345\n",
      "Epoch 51/100\n",
      "880/880 [==============================] - 0s 36us/step - loss: 0.0312 - val_loss: 0.0284\n",
      "Epoch 52/100\n",
      "880/880 [==============================] - 0s 35us/step - loss: 0.0297 - val_loss: 0.0295\n",
      "Epoch 53/100\n",
      "880/880 [==============================] - 0s 46us/step - loss: 0.0330 - val_loss: 0.0334\n",
      "Epoch 54/100\n",
      "880/880 [==============================] - 0s 39us/step - loss: 0.0302 - val_loss: 0.0284\n",
      "Epoch 55/100\n",
      "880/880 [==============================] - 0s 33us/step - loss: 0.0313 - val_loss: 0.0290\n",
      "Epoch 56/100\n",
      "880/880 [==============================] - 0s 33us/step - loss: 0.0304 - val_loss: 0.0296\n",
      "Epoch 57/100\n",
      "880/880 [==============================] - 0s 37us/step - loss: 0.0293 - val_loss: 0.0297\n",
      "Epoch 58/100\n",
      "880/880 [==============================] - 0s 34us/step - loss: 0.0310 - val_loss: 0.0304\n",
      "Epoch 59/100\n",
      "880/880 [==============================] - 0s 43us/step - loss: 0.0329 - val_loss: 0.0353\n",
      "Epoch 60/100\n",
      "880/880 [==============================] - 0s 33us/step - loss: 0.0299 - val_loss: 0.0291\n",
      "Epoch 61/100\n",
      "880/880 [==============================] - 0s 36us/step - loss: 0.0290 - val_loss: 0.0274\n",
      "Epoch 62/100\n",
      "880/880 [==============================] - 0s 35us/step - loss: 0.0298 - val_loss: 0.0299\n",
      "Epoch 63/100\n",
      "880/880 [==============================] - 0s 37us/step - loss: 0.0312 - val_loss: 0.0308\n",
      "Epoch 64/100\n",
      "880/880 [==============================] - 0s 38us/step - loss: 0.0295 - val_loss: 0.0288\n",
      "Epoch 65/100\n",
      "880/880 [==============================] - 0s 36us/step - loss: 0.0301 - val_loss: 0.0287\n",
      "Epoch 66/100\n",
      "880/880 [==============================] - 0s 35us/step - loss: 0.0292 - val_loss: 0.0303\n",
      "Epoch 67/100\n",
      "880/880 [==============================] - 0s 36us/step - loss: 0.0306 - val_loss: 0.0308\n",
      "Epoch 68/100\n",
      "880/880 [==============================] - 0s 43us/step - loss: 0.0311 - val_loss: 0.0310\n",
      "Epoch 69/100\n",
      "880/880 [==============================] - 0s 37us/step - loss: 0.0319 - val_loss: 0.0294\n",
      "Epoch 70/100\n",
      "880/880 [==============================] - 0s 34us/step - loss: 0.0304 - val_loss: 0.0313\n",
      "Epoch 71/100\n",
      "880/880 [==============================] - 0s 37us/step - loss: 0.0296 - val_loss: 0.0277\n",
      "Epoch 72/100\n",
      "880/880 [==============================] - 0s 33us/step - loss: 0.0286 - val_loss: 0.0293\n",
      "Epoch 73/100\n",
      "880/880 [==============================] - 0s 35us/step - loss: 0.0294 - val_loss: 0.0282\n",
      "Epoch 74/100\n",
      "880/880 [==============================] - 0s 33us/step - loss: 0.0280 - val_loss: 0.0276\n",
      "Epoch 75/100\n",
      "880/880 [==============================] - 0s 35us/step - loss: 0.0284 - val_loss: 0.0275\n",
      "Epoch 76/100\n",
      "880/880 [==============================] - 0s 33us/step - loss: 0.0284 - val_loss: 0.0325\n",
      "Epoch 77/100\n",
      "880/880 [==============================] - 0s 34us/step - loss: 0.0290 - val_loss: 0.0291\n",
      "Epoch 78/100\n",
      "880/880 [==============================] - 0s 43us/step - loss: 0.0294 - val_loss: 0.0272\n",
      "Epoch 79/100\n",
      "880/880 [==============================] - 0s 39us/step - loss: 0.0302 - val_loss: 0.0293\n"
     ]
    },
    {
     "name": "stdout",
     "output_type": "stream",
     "text": [
      "Epoch 80/100\n",
      "880/880 [==============================] - 0s 42us/step - loss: 0.0294 - val_loss: 0.0279\n",
      "Epoch 81/100\n",
      "880/880 [==============================] - 0s 37us/step - loss: 0.0316 - val_loss: 0.0377\n",
      "Epoch 82/100\n",
      "880/880 [==============================] - 0s 57us/step - loss: 0.0327 - val_loss: 0.0379\n",
      "Epoch 83/100\n",
      "880/880 [==============================] - 0s 39us/step - loss: 0.0296 - val_loss: 0.0364\n",
      "Epoch 84/100\n",
      "880/880 [==============================] - 0s 38us/step - loss: 0.0291 - val_loss: 0.0273\n",
      "Epoch 85/100\n",
      "880/880 [==============================] - 0s 37us/step - loss: 0.0289 - val_loss: 0.0274\n",
      "Epoch 86/100\n",
      "880/880 [==============================] - 0s 39us/step - loss: 0.0276 - val_loss: 0.0287\n",
      "Epoch 87/100\n",
      "880/880 [==============================] - 0s 40us/step - loss: 0.0279 - val_loss: 0.0283\n",
      "Epoch 88/100\n",
      "880/880 [==============================] - 0s 40us/step - loss: 0.0281 - val_loss: 0.0273\n",
      "Epoch 89/100\n",
      "880/880 [==============================] - 0s 36us/step - loss: 0.0275 - val_loss: 0.0284\n",
      "Epoch 90/100\n",
      "880/880 [==============================] - 0s 38us/step - loss: 0.0276 - val_loss: 0.0275\n",
      "Epoch 91/100\n",
      "880/880 [==============================] - ETA: 0s - loss: 0.026 - 0s 34us/step - loss: 0.0293 - val_loss: 0.0300\n",
      "Epoch 92/100\n",
      "880/880 [==============================] - 0s 36us/step - loss: 0.0288 - val_loss: 0.0320\n",
      "Epoch 93/100\n",
      "880/880 [==============================] - 0s 39us/step - loss: 0.0282 - val_loss: 0.0365\n",
      "Epoch 94/100\n",
      "880/880 [==============================] - 0s 40us/step - loss: 0.0310 - val_loss: 0.0264\n",
      "Epoch 95/100\n",
      "880/880 [==============================] - 0s 39us/step - loss: 0.0285 - val_loss: 0.0278\n",
      "Epoch 96/100\n",
      "880/880 [==============================] - 0s 35us/step - loss: 0.0289 - val_loss: 0.0340\n",
      "Epoch 97/100\n",
      "880/880 [==============================] - 0s 37us/step - loss: 0.0331 - val_loss: 0.0306\n",
      "Epoch 98/100\n",
      "880/880 [==============================] - 0s 39us/step - loss: 0.0291 - val_loss: 0.0276\n",
      "Epoch 99/100\n",
      "880/880 [==============================] - 0s 38us/step - loss: 0.0291 - val_loss: 0.0283\n",
      "Epoch 100/100\n",
      "880/880 [==============================] - 0s 35us/step - loss: 0.0282 - val_loss: 0.0307\n"
     ]
    },
    {
     "data": {
      "text/plain": [
       "<keras.callbacks.History at 0x2b174d99d68>"
      ]
     },
     "execution_count": 6,
     "metadata": {},
     "output_type": "execute_result"
    }
   ],
   "source": [
    "model.compile(loss='mae',optimizer='adam')\n",
    "model.fit(X_new,Y_new,epochs =100,batch_size = 64,validation_split=0.2)"
   ]
  },
  {
   "cell_type": "code",
   "execution_count": 7,
   "metadata": {},
   "outputs": [],
   "source": [
    "ID = data_test['Id'].values"
   ]
  },
  {
   "cell_type": "code",
   "execution_count": 8,
   "metadata": {},
   "outputs": [],
   "source": [
    "# predicting the price\n",
    "pred = model.predict(x_test_new)"
   ]
  },
  {
   "cell_type": "code",
   "execution_count": 9,
   "metadata": {},
   "outputs": [],
   "source": [
    "pred_ = min_max_scaler.inverse_transform(pred)"
   ]
  },
  {
   "cell_type": "code",
   "execution_count": 10,
   "metadata": {},
   "outputs": [],
   "source": [
    "p = pred_.reshape((-1,))"
   ]
  },
  {
   "cell_type": "code",
   "execution_count": 11,
   "metadata": {},
   "outputs": [],
   "source": [
    "pr = np.array(p).astype(int)"
   ]
  },
  {
   "cell_type": "code",
   "execution_count": 12,
   "metadata": {},
   "outputs": [],
   "source": [
    "sub = pd.DataFrame({\"Id\":ID,\"SalePrice\":pr})"
   ]
  },
  {
   "cell_type": "code",
   "execution_count": 13,
   "metadata": {},
   "outputs": [],
   "source": [
    "# creating the .csv file of the prediction\n",
    "submiss = sub.to_csv(\"output1.csv\",index = False)"
   ]
  },
  {
   "cell_type": "markdown",
   "metadata": {},
   "source": [
    "# Predicting price using Linear Regression"
   ]
  },
  {
   "cell_type": "code",
   "execution_count": 14,
   "metadata": {},
   "outputs": [],
   "source": [
    "lr = LinearRegression()"
   ]
  },
  {
   "cell_type": "code",
   "execution_count": 15,
   "metadata": {},
   "outputs": [
    {
     "data": {
      "text/plain": [
       "LinearRegression(copy_X=True, fit_intercept=True, n_jobs=None, normalize=False)"
      ]
     },
     "execution_count": 15,
     "metadata": {},
     "output_type": "execute_result"
    }
   ],
   "source": [
    "lr.fit(X_,Y_)"
   ]
  },
  {
   "cell_type": "code",
   "execution_count": 16,
   "metadata": {},
   "outputs": [
    {
     "data": {
      "text/plain": [
       "0.7979604152678991"
      ]
     },
     "execution_count": 16,
     "metadata": {},
     "output_type": "execute_result"
    }
   ],
   "source": [
    "lr.score(X_,Y_)"
   ]
  },
  {
   "cell_type": "code",
   "execution_count": 17,
   "metadata": {},
   "outputs": [],
   "source": [
    "#predicting the price\n",
    "p2 = lr.predict(X_test)\n",
    "p2 = p2.reshape((-1,))"
   ]
  },
  {
   "cell_type": "code",
   "execution_count": 18,
   "metadata": {},
   "outputs": [],
   "source": [
    "sub = pd.DataFrame({\"Id\":ID,\"SalePrice\":p2})\n",
    "submiss = sub.to_csv(\"output2.csv\",index = False)"
   ]
  },
  {
   "cell_type": "markdown",
   "metadata": {},
   "source": [
    "# Predicting price using Decision Tree"
   ]
  },
  {
   "cell_type": "code",
   "execution_count": 19,
   "metadata": {},
   "outputs": [
    {
     "data": {
      "text/plain": [
       "DecisionTreeRegressor(criterion='mse', max_depth=5, max_features=None,\n",
       "                      max_leaf_nodes=None, min_impurity_decrease=0.0,\n",
       "                      min_impurity_split=None, min_samples_leaf=1,\n",
       "                      min_samples_split=2, min_weight_fraction_leaf=0.0,\n",
       "                      presort=False, random_state=None, splitter='best')"
      ]
     },
     "execution_count": 19,
     "metadata": {},
     "output_type": "execute_result"
    }
   ],
   "source": [
    "m=tree.DecisionTreeRegressor(max_depth=5)\n",
    "m.fit(X_,Y_)\n",
    "\n",
    "                   \n"
   ]
  },
  {
   "cell_type": "code",
   "execution_count": 20,
   "metadata": {},
   "outputs": [
    {
     "data": {
      "text/plain": [
       "0.8676287107078674"
      ]
     },
     "execution_count": 20,
     "metadata": {},
     "output_type": "execute_result"
    }
   ],
   "source": [
    "m.score(X_,Y_)"
   ]
  },
  {
   "cell_type": "code",
   "execution_count": 21,
   "metadata": {},
   "outputs": [],
   "source": [
    "#predicting the price\n",
    "predi=m.predict(X_test)"
   ]
  },
  {
   "cell_type": "code",
   "execution_count": 22,
   "metadata": {},
   "outputs": [],
   "source": [
    "sub = pd.DataFrame({\"Id\":ID,\"SalePrice\":predi})"
   ]
  },
  {
   "cell_type": "code",
   "execution_count": 23,
   "metadata": {},
   "outputs": [],
   "source": [
    "submiss = sub.to_csv(\"output3.csv\",index = False)"
   ]
  },
  {
   "cell_type": "code",
   "execution_count": null,
   "metadata": {},
   "outputs": [],
   "source": []
  },
  {
   "cell_type": "code",
   "execution_count": null,
   "metadata": {},
   "outputs": [],
   "source": []
  }
 ],
 "metadata": {
  "kernelspec": {
   "display_name": "Python 3",
   "language": "python",
   "name": "python3"
  },
  "language_info": {
   "codemirror_mode": {
    "name": "ipython",
    "version": 3
   },
   "file_extension": ".py",
   "mimetype": "text/x-python",
   "name": "python",
   "nbconvert_exporter": "python",
   "pygments_lexer": "ipython3",
   "version": "3.6.7"
  }
 },
 "nbformat": 4,
 "nbformat_minor": 2
}
